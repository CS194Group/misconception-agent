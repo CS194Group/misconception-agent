{
 "cells": [
  {
   "cell_type": "markdown",
   "metadata": {},
   "source": [
    "# Multi Agent Misconceptions"
   ]
  },
  {
   "cell_type": "markdown",
   "metadata": {},
   "source": [
    "### Todo's"
   ]
  },
  {
   "cell_type": "code",
   "execution_count": null,
   "metadata": {},
   "outputs": [],
   "source": [
    "# TODO: Making the code run properly(debuging the FAISS code??)\n",
    "# TODO: Figuring out how to handle the inconsistency between training data and prediction results.\n",
    "# TODO: Trying more advanced structure.\n",
    "# TODO: Use streamlit fo launching the app."
   ]
  },
  {
   "cell_type": "markdown",
   "metadata": {},
   "source": [
    "### Imports"
   ]
  },
  {
   "cell_type": "code",
   "execution_count": null,
   "metadata": {},
   "outputs": [],
   "source": [
    "import os\n",
    "import dspy\n",
    "\n",
    "from dotenv import load_dotenv\n",
    "from dspy.evaluate import Evaluate\n",
    "from colorama import Fore, Style, init\n",
    "from dspy.teleprompt import BootstrapFewShot\n",
    "\n",
    "from src.agents import Agent\n",
    "from src.evaluation import evaluate_answers\n",
    "from src.predict_model import ExchangeOfThought\n",
    "from src.dataloader import load_data, load_misconceptions"
   ]
  },
  {
   "cell_type": "code",
   "execution_count": null,
   "metadata": {},
   "outputs": [],
   "source": [
    "# Initialize colorama\n",
    "init(autoreset=True)\n",
    "\n",
    "# Load environment variables\n",
    "load_dotenv()\n",
    "\n",
    "# Configure OpenAI API\n",
    "OPENAI_API_KEY = os.getenv(\"OPENAI_API_KEY\")\n",
    "if not OPENAI_API_KEY:\n",
    "    raise EnvironmentError(\n",
    "        \"OPENAI_API_KEY not found in environment variables.\")\n",
    "os.environ[\"OPENAI_API_KEY\"] = OPENAI_API_KEY\n",
    "lm = dspy.LM('openai/gpt-3.5-turbo')\n",
    "dspy.configure(lm=lm)"
   ]
  },
  {
   "cell_type": "markdown",
   "metadata": {},
   "source": [
    "### Load Data"
   ]
  },
  {
   "cell_type": "code",
   "execution_count": null,
   "metadata": {},
   "outputs": [],
   "source": [
    "# Misconception mapping\n",
    "misconceptions = load_misconceptions('data/misconception_mapping.csv')\n",
    "\n",
    "# Load training and test sets\n",
    "train_data = load_data('data/train.csv')\n",
    "test_data = load_data('data/train.csv', is_test=True)"
   ]
  },
  {
   "cell_type": "code",
   "execution_count": null,
   "metadata": {},
   "outputs": [],
   "source": [
    "# Set up Agents\n",
    "agent_a = Agent(name=\"Agent A\")\n",
    "agent_b = Agent(name=\"Agent B\")\n",
    "agent_c = Agent(name=\"Agent C\")\n",
    "\n",
    "# evaluate\n",
    "evaluate_program = Evaluate(devset=test_data, metric=evaluate_answers,\n",
    "                            num_threads=8, display_progress=True, display_table=10)\n",
    "predict = ExchangeOfThought(\n",
    "    agent_a, agent_b, agent_c, rounds=3, mode=\"Report\")\n",
    "eval1 = evaluate_program(predict)\n",
    "\n",
    "# compile\n",
    "teleprompter = BootstrapFewShot(\n",
    "    metric=evaluate_answers, max_labeled_demos=1)\n",
    "compiled_predictor = teleprompter.compile(predict, trainset=train_data)\n",
    "\n",
    "# evaluate again\n",
    "# eval_compiled = evaluate_program(compiled_predictor)\n",
    "# compiled_predictor.save('./compiled_model.pkl')\n",
    "# print(eval_compiled)"
   ]
  }
 ],
 "metadata": {
  "kernelspec": {
   "display_name": "math_agent",
   "language": "python",
   "name": "python3"
  },
  "language_info": {
   "codemirror_mode": {
    "name": "ipython",
    "version": 3
   },
   "file_extension": ".py",
   "mimetype": "text/x-python",
   "name": "python",
   "nbconvert_exporter": "python",
   "pygments_lexer": "ipython3",
   "version": "3.11.8"
  }
 },
 "nbformat": 4,
 "nbformat_minor": 2
}
